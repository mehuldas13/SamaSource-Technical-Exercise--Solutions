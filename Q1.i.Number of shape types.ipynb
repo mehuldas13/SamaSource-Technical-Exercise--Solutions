{
 "cells": [
  {
   "cell_type": "markdown",
   "metadata": {},
   "source": [
    "##Required Libraries"
   ]
  },
  {
   "cell_type": "code",
   "execution_count": 1,
   "metadata": {},
   "outputs": [],
   "source": [
    "import json\n",
    "from pandas import DataFrame\n",
    "from collections import Counter "
   ]
  },
  {
   "cell_type": "markdown",
   "metadata": {},
   "source": [
    "##Reading the Json File"
   ]
  },
  {
   "cell_type": "code",
   "execution_count": 2,
   "metadata": {},
   "outputs": [],
   "source": [
    "with open('sample-json.json') as f:\n",
    "    data = json.load(f)"
   ]
  },
  {
   "cell_type": "markdown",
   "metadata": {},
   "source": [
    "##Converting the json file to a data frame so as to read the data in the file and see the variables in a proper manner as it would have seemed gibberish normally"
   ]
  },
  {
   "cell_type": "code",
   "execution_count": 3,
   "metadata": {},
   "outputs": [
    {
     "data": {
      "text/html": [
       "<div>\n",
       "<style scoped>\n",
       "    .dataframe tbody tr th:only-of-type {\n",
       "        vertical-align: middle;\n",
       "    }\n",
       "\n",
       "    .dataframe tbody tr th {\n",
       "        vertical-align: top;\n",
       "    }\n",
       "\n",
       "    .dataframe thead th {\n",
       "        text-align: right;\n",
       "    }\n",
       "</style>\n",
       "<table border=\"1\" class=\"dataframe\">\n",
       "  <thead>\n",
       "    <tr style=\"text-align: right;\">\n",
       "      <th></th>\n",
       "      <th>IsPulledById</th>\n",
       "      <th>ObjectMotion</th>\n",
       "      <th>ObjectType</th>\n",
       "      <th>ObjectView</th>\n",
       "      <th>OccludedById</th>\n",
       "      <th>Occlusion</th>\n",
       "      <th>Step A Agent</th>\n",
       "      <th>Variation</th>\n",
       "      <th>VehicleDirection</th>\n",
       "      <th>VehicleLights</th>\n",
       "      <th>Visibility</th>\n",
       "      <th>batch_id</th>\n",
       "      <th>name</th>\n",
       "      <th>sequence</th>\n",
       "      <th>taggable image</th>\n",
       "      <th>task_id</th>\n",
       "      <th>task_url</th>\n",
       "      <th>teams</th>\n",
       "      <th>url</th>\n",
       "    </tr>\n",
       "  </thead>\n",
       "  <tbody>\n",
       "    <tr>\n",
       "      <th>0</th>\n",
       "      <td>None</td>\n",
       "      <td>None</td>\n",
       "      <td>None</td>\n",
       "      <td>None</td>\n",
       "      <td>None</td>\n",
       "      <td>None</td>\n",
       "      <td>11455</td>\n",
       "      <td>None</td>\n",
       "      <td>None</td>\n",
       "      <td>None</td>\n",
       "      <td>None</td>\n",
       "      <td>24260</td>\n",
       "      <td>LB-AA_107_20181113_163102_020_f002040_fc000750...</td>\n",
       "      <td>na</td>\n",
       "      <td>[{'tags': {'label': 'car'}, 'type': 'rect', 'i...</td>\n",
       "      <td>5cfba11f2b9c550501e82158</td>\n",
       "      <td>https://hub3.samasource.org/projects/5035/task...</td>\n",
       "      <td>SamaDC Gulu</td>\n",
       "      <td>https://sama-client-assets.s3.amazonaws.com/12...</td>\n",
       "    </tr>\n",
       "    <tr>\n",
       "      <th>1</th>\n",
       "      <td>None</td>\n",
       "      <td>None</td>\n",
       "      <td>None</td>\n",
       "      <td>None</td>\n",
       "      <td>None</td>\n",
       "      <td>None</td>\n",
       "      <td>8179</td>\n",
       "      <td>None</td>\n",
       "      <td>None</td>\n",
       "      <td>None</td>\n",
       "      <td>None</td>\n",
       "      <td>24260</td>\n",
       "      <td>LB-AA_107_20181113_163102_050_f002550_fc003126...</td>\n",
       "      <td>na</td>\n",
       "      <td>[{'tags': {'label': 'car'}, 'type': 'rect', 'i...</td>\n",
       "      <td>5cfba11f2b9c550501e82159</td>\n",
       "      <td>https://hub3.samasource.org/projects/5035/task...</td>\n",
       "      <td>SamaDC Gulu</td>\n",
       "      <td>https://sama-client-assets.s3.amazonaws.com/12...</td>\n",
       "    </tr>\n",
       "    <tr>\n",
       "      <th>2</th>\n",
       "      <td>None</td>\n",
       "      <td>None</td>\n",
       "      <td>None</td>\n",
       "      <td>None</td>\n",
       "      <td>None</td>\n",
       "      <td>None</td>\n",
       "      <td>11392</td>\n",
       "      <td>None</td>\n",
       "      <td>None</td>\n",
       "      <td>None</td>\n",
       "      <td>None</td>\n",
       "      <td>24260</td>\n",
       "      <td>LB-AA_107_20181113_163102_156_f001650_fc006000...</td>\n",
       "      <td>na</td>\n",
       "      <td>[{'tags': {'label': 'van'}, 'type': 'rect', 'i...</td>\n",
       "      <td>5cfba11f2b9c550501e8215b</td>\n",
       "      <td>https://hub3.samasource.org/projects/5035/task...</td>\n",
       "      <td>SamaDC Gulu</td>\n",
       "      <td>https://sama-client-assets.s3.amazonaws.com/12...</td>\n",
       "    </tr>\n",
       "    <tr>\n",
       "      <th>3</th>\n",
       "      <td>None</td>\n",
       "      <td>None</td>\n",
       "      <td>None</td>\n",
       "      <td>None</td>\n",
       "      <td>None</td>\n",
       "      <td>None</td>\n",
       "      <td>11443</td>\n",
       "      <td>None</td>\n",
       "      <td>None</td>\n",
       "      <td>None</td>\n",
       "      <td>None</td>\n",
       "      <td>24260</td>\n",
       "      <td>LB-AA_107_20181120_125956_088_f001380_fc002686...</td>\n",
       "      <td>na</td>\n",
       "      <td>[{'tags': {'label': 'van'}, 'type': 'rect', 'i...</td>\n",
       "      <td>5cfba11f2b9c550501e8215e</td>\n",
       "      <td>https://hub3.samasource.org/projects/5035/task...</td>\n",
       "      <td>SamaDC Gulu</td>\n",
       "      <td>https://sama-client-assets.s3.amazonaws.com/12...</td>\n",
       "    </tr>\n",
       "    <tr>\n",
       "      <th>4</th>\n",
       "      <td>None</td>\n",
       "      <td>None</td>\n",
       "      <td>None</td>\n",
       "      <td>None</td>\n",
       "      <td>None</td>\n",
       "      <td>None</td>\n",
       "      <td>11399</td>\n",
       "      <td>None</td>\n",
       "      <td>None</td>\n",
       "      <td>None</td>\n",
       "      <td>None</td>\n",
       "      <td>24260</td>\n",
       "      <td>LB-AA_107_20181120_150737_028_f002100_fc001043...</td>\n",
       "      <td>na</td>\n",
       "      <td>[{'tags': {'label': 'bus'}, 'type': 'polygon',...</td>\n",
       "      <td>5cfba11f2b9c550501e8215f</td>\n",
       "      <td>https://hub3.samasource.org/projects/5035/task...</td>\n",
       "      <td>SamaDC Gulu</td>\n",
       "      <td>https://sama-client-assets.s3.amazonaws.com/12...</td>\n",
       "    </tr>\n",
       "  </tbody>\n",
       "</table>\n",
       "</div>"
      ],
      "text/plain": [
       "  IsPulledById ObjectMotion ObjectType ObjectView OccludedById Occlusion  \\\n",
       "0         None         None       None       None         None      None   \n",
       "1         None         None       None       None         None      None   \n",
       "2         None         None       None       None         None      None   \n",
       "3         None         None       None       None         None      None   \n",
       "4         None         None       None       None         None      None   \n",
       "\n",
       "   Step A Agent Variation VehicleDirection VehicleLights Visibility  batch_id  \\\n",
       "0         11455      None             None          None       None     24260   \n",
       "1          8179      None             None          None       None     24260   \n",
       "2         11392      None             None          None       None     24260   \n",
       "3         11443      None             None          None       None     24260   \n",
       "4         11399      None             None          None       None     24260   \n",
       "\n",
       "                                                name sequence  \\\n",
       "0  LB-AA_107_20181113_163102_020_f002040_fc000750...       na   \n",
       "1  LB-AA_107_20181113_163102_050_f002550_fc003126...       na   \n",
       "2  LB-AA_107_20181113_163102_156_f001650_fc006000...       na   \n",
       "3  LB-AA_107_20181120_125956_088_f001380_fc002686...       na   \n",
       "4  LB-AA_107_20181120_150737_028_f002100_fc001043...       na   \n",
       "\n",
       "                                      taggable image  \\\n",
       "0  [{'tags': {'label': 'car'}, 'type': 'rect', 'i...   \n",
       "1  [{'tags': {'label': 'car'}, 'type': 'rect', 'i...   \n",
       "2  [{'tags': {'label': 'van'}, 'type': 'rect', 'i...   \n",
       "3  [{'tags': {'label': 'van'}, 'type': 'rect', 'i...   \n",
       "4  [{'tags': {'label': 'bus'}, 'type': 'polygon',...   \n",
       "\n",
       "                    task_id  \\\n",
       "0  5cfba11f2b9c550501e82158   \n",
       "1  5cfba11f2b9c550501e82159   \n",
       "2  5cfba11f2b9c550501e8215b   \n",
       "3  5cfba11f2b9c550501e8215e   \n",
       "4  5cfba11f2b9c550501e8215f   \n",
       "\n",
       "                                            task_url        teams  \\\n",
       "0  https://hub3.samasource.org/projects/5035/task...  SamaDC Gulu   \n",
       "1  https://hub3.samasource.org/projects/5035/task...  SamaDC Gulu   \n",
       "2  https://hub3.samasource.org/projects/5035/task...  SamaDC Gulu   \n",
       "3  https://hub3.samasource.org/projects/5035/task...  SamaDC Gulu   \n",
       "4  https://hub3.samasource.org/projects/5035/task...  SamaDC Gulu   \n",
       "\n",
       "                                                 url  \n",
       "0  https://sama-client-assets.s3.amazonaws.com/12...  \n",
       "1  https://sama-client-assets.s3.amazonaws.com/12...  \n",
       "2  https://sama-client-assets.s3.amazonaws.com/12...  \n",
       "3  https://sama-client-assets.s3.amazonaws.com/12...  \n",
       "4  https://sama-client-assets.s3.amazonaws.com/12...  "
      ]
     },
     "execution_count": 3,
     "metadata": {},
     "output_type": "execute_result"
    }
   ],
   "source": [
    "df = DataFrame(data)\n",
    "df.head()"
   ]
  },
  {
   "cell_type": "raw",
   "metadata": {},
   "source": [
    "##Creating lists to be able to order the unique elements or to catch the data in an ordered sequence as the Json dataset has the data given in unordered manner."
   ]
  },
  {
   "cell_type": "code",
   "execution_count": 4,
   "metadata": {},
   "outputs": [],
   "source": [
    "label = list()\n",
    "shape = list()\n",
    "taggable_image = list()\n",
    "points = list()\n",
    "index = list()"
   ]
  },
  {
   "cell_type": "markdown",
   "metadata": {},
   "source": [
    "##Creating a for loop to create an iteration for the count of images and appending the values of the varaibles to the list"
   ]
  },
  {
   "cell_type": "code",
   "execution_count": 5,
   "metadata": {},
   "outputs": [],
   "source": [
    "for dt in data:\n",
    "    taggable_image.append(dt['taggable image'])"
   ]
  },
  {
   "cell_type": "code",
   "execution_count": 6,
   "metadata": {},
   "outputs": [],
   "source": [
    "for t in taggable_image:\n",
    "    for i in t:\n",
    "        label.append(i['tags']['label'])\n",
    "        shape.append(i['type'])\n",
    "        points.append(i['points'])\n",
    "        index.append(i['index'])"
   ]
  },
  {
   "cell_type": "markdown",
   "metadata": {},
   "source": [
    "##Creating a function to tally the unique shapes(creating a set of the unique shape from the list) and its count(calclulating the length of the set 's')"
   ]
  },
  {
   "cell_type": "code",
   "execution_count": 7,
   "metadata": {},
   "outputs": [],
   "source": [
    "def number_unique_shapes(s):\n",
    "    return f\"Unique Shapes {list(set(s))}. Number: {len(list(set(s)))}\""
   ]
  },
  {
   "cell_type": "code",
   "execution_count": 8,
   "metadata": {},
   "outputs": [
    {
     "name": "stdout",
     "output_type": "stream",
     "text": [
      "Unique Shapes ['polygon', 'line', 'rect']. Number: 3\n"
     ]
    }
   ],
   "source": [
    "if __name__ == '__main__':\n",
    "    print(number_unique_shapes(shape))"
   ]
  },
  {
   "cell_type": "code",
   "execution_count": null,
   "metadata": {},
   "outputs": [],
   "source": []
  }
 ],
 "metadata": {
  "kernelspec": {
   "display_name": "Python 3",
   "language": "python",
   "name": "python3"
  },
  "language_info": {
   "codemirror_mode": {
    "name": "ipython",
    "version": 3
   },
   "file_extension": ".py",
   "mimetype": "text/x-python",
   "name": "python",
   "nbconvert_exporter": "python",
   "pygments_lexer": "ipython3",
   "version": "3.7.4"
  }
 },
 "nbformat": 4,
 "nbformat_minor": 2
}
